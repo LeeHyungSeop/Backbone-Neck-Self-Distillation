{
 "cells": [
  {
   "cell_type": "code",
   "execution_count": 29,
   "metadata": {},
   "outputs": [
    {
     "name": "stdout",
     "output_type": "stream",
     "text": [
      "Total Loss: 16.400394439697266\n",
      "Execution time: 0.0009884834289550781\n",
      "Total Loss: 16.400352478027344\n",
      "Execution time: 0.001119852066040039\n"
     ]
    }
   ],
   "source": [
    "import torch\n",
    "import torch.nn as nn\n",
    "import time\n",
    "\n",
    "def loss(S, T, gamma = 1):\n",
    "    # N : number of elements in each feature map\n",
    "    N = S.shape[1] * S.shape[2] * S.shape[3] \n",
    "    loss = (gamma / N) * torch.sum((S - T) ** 2)\n",
    "    return loss\n",
    "def loss2(S, T, gamma = 1):\n",
    "    # N : number of elements in each feature map\n",
    "    N = S.shape[1] * S.shape[2] * S.shape[3] \n",
    "    loss = (gamma / N) * torch.norm(S - T, p=2) ** 2\n",
    "    return loss\n",
    "\n",
    "\n",
    "def total_loss(S_s, T_s, S_m, T_m, S_l, T_l, gamma):\n",
    "    L_s = loss(S_s, T_s, gamma)\n",
    "    L_m = loss(S_m, T_m)\n",
    "    L_l = loss(S_l, T_l)\n",
    "    return L_s + L_m + L_l\n",
    "def total_loss2(S_s, T_s, S_m, T_m, S_l, T_l, gamma):\n",
    "    L_s = loss2(S_s, T_s, gamma)\n",
    "    L_m = loss2(S_m, T_m)\n",
    "    L_l = loss2(S_l, T_l)\n",
    "    return L_s + L_m + L_l\n",
    "\n",
    "\n",
    "# 가상의 모델 출력 (예제)\n",
    "batch_size, H, W, C = 4, 32, 32, 64\n",
    "\n",
    "S_s = torch.randn(batch_size, H, W, C)\n",
    "T_s = torch.randn(batch_size, H, W, C)\n",
    "S_m = torch.randn(batch_size, H, W, C)\n",
    "T_m = torch.randn(batch_size, H, W, C)\n",
    "S_l = torch.randn(batch_size, H, W, C)\n",
    "T_l = torch.randn(batch_size, H, W, C)\n",
    "\n",
    "gamma = 0.05\n",
    "\n",
    "# 손실 계산\n",
    "# execution time\n",
    "start = time.time()\n",
    "loss1 = total_loss(S_s, T_s, S_m, T_m, S_l, T_l, gamma)\n",
    "print(f'Total Loss: {loss1}')\n",
    "print(f'Execution time: {time.time() - start}')\n",
    "\n",
    "start = time.time()\n",
    "loss2 = total_loss2(T_s, S_s, T_m, S_m, T_l, S_l, gamma)\n",
    "print(f'Total Loss: {loss2}')\n",
    "print(f'Execution time: {time.time() - start}')"
   ]
  },
  {
   "cell_type": "code",
   "execution_count": null,
   "metadata": {},
   "outputs": [],
   "source": []
  }
 ],
 "metadata": {
  "kernelspec": {
   "display_name": "Python 3",
   "language": "python",
   "name": "python3"
  },
  "language_info": {
   "codemirror_mode": {
    "name": "ipython",
    "version": 3
   },
   "file_extension": ".py",
   "mimetype": "text/x-python",
   "name": "python",
   "nbconvert_exporter": "python",
   "pygments_lexer": "ipython3",
   "version": "3.10.12"
  }
 },
 "nbformat": 4,
 "nbformat_minor": 2
}
