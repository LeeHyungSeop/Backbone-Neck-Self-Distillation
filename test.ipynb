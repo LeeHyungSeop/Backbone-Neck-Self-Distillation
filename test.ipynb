{
 "cells": [
  {
   "cell_type": "code",
   "execution_count": null,
   "metadata": {},
   "outputs": [],
   "source": [
    "import torch\n",
    "import torch.nn as nn\n",
    "\n",
    "def loss(S, T, gamma = 1):\n",
    "    N = S.shape[0]  # Batch size\n",
    "    loss = (gamma / N) * torch.sum((S - T) ** 2)\n",
    "    return loss\n",
    "\n",
    "\n",
    "def total_loss(S_s, T_s, S_m, T_m, S_l, T_l, gamma):\n",
    "    L_s = loss(S_s, T_s, gamma)\n",
    "    L_m = loss(S_m, T_m)\n",
    "    L_l = loss(S_l, T_l)\n",
    "    return L_s + L_m + L_l\n",
    "\n",
    "\n",
    "# 가상의 모델 출력 (예제)\n",
    "batch_size, H, W, C = 4, 32, 32, 64\n",
    "\n",
    "S_s = torch.randn(batch_size, H, W, C)\n",
    "T_s = torch.randn(batch_size, H, W, C)\n",
    "S_m = torch.randn(batch_size, H, W, C)\n",
    "T_m = torch.randn(batch_size, H, W, C)\n",
    "S_l = torch.randn(batch_size, H, W, C)\n",
    "T_l = torch.randn(batch_size, H, W, C)\n",
    "\n",
    "gamma = 0.05\n",
    "\n",
    "# 손실 계산\n",
    "loss = total_loss(S_s, T_s, S_m, T_m, S_l, T_l, gamma)\n",
    "print(f'Total Loss: {loss.item()}')"
   ]
  },
  {
   "cell_type": "code",
   "execution_count": null,
   "metadata": {},
   "outputs": [],
   "source": []
  }
 ],
 "metadata": {
  "language_info": {
   "name": "csharp"
  }
 },
 "nbformat": 4,
 "nbformat_minor": 2
}
