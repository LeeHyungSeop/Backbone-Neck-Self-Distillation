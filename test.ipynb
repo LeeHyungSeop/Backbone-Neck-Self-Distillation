{
 "cells": [
  {
   "cell_type": "code",
   "execution_count": 42,
   "metadata": {},
   "outputs": [
    {
     "name": "stdout",
     "output_type": "stream",
     "text": [
      "tensor(16.4758)\n",
      "tensor(16.4758)\n"
     ]
    }
   ],
   "source": [
    "import torch\n",
    "import torch.nn as nn\n",
    "\n",
    "def loss(S, T, gamma = 1):\n",
    "    # N : number of elements in each feature map\n",
    "    N = S.shape[1] * S.shape[2] * S.shape[3] \n",
    "    loss = (gamma / N) * torch.norm(S - T, p=2) ** 2\n",
    "    return loss\n",
    "\n",
    "\n",
    "def total_loss(S_s, T_s, S_m, T_m, S_l, T_l, gamma):\n",
    "    L_s = loss(S_s, T_s, gamma)\n",
    "    L_m = loss(S_m, T_m)\n",
    "    L_l = loss(S_l, T_l)\n",
    "    return L_s + L_m + L_l\n",
    "\n",
    "\n",
    "batch_size, H, W, C = 4, 32, 32, 64\n",
    "\n",
    "S_s = torch.randn(batch_size, H, W, C)\n",
    "T_s = torch.randn(batch_size, H, W, C)\n",
    "S_m = torch.randn(batch_size, H, W, C)\n",
    "T_m = torch.randn(batch_size, H, W, C)\n",
    "S_l = torch.randn(batch_size, H, W, C)\n",
    "T_l = torch.randn(batch_size, H, W, C)\n",
    "\n",
    "gamma = 0.05\n",
    "\n",
    "# MSSD는 KD가 아니라 Collborative Learning이다.\n",
    "cl_loss = total_loss(S_s, T_s, S_m, T_m, S_l, T_l, gamma)\n",
    "print(cl_loss)\n",
    "cl_loss = total_loss(T_s, S_s, T_m, S_m, T_l, S_l, gamma)\n",
    "print(cl_loss)"
   ]
  },
  {
   "cell_type": "code",
   "execution_count": null,
   "metadata": {},
   "outputs": [],
   "source": []
  }
 ],
 "metadata": {
  "kernelspec": {
   "display_name": "Python 3",
   "language": "python",
   "name": "python3"
  },
  "language_info": {
   "codemirror_mode": {
    "name": "ipython",
    "version": 3
   },
   "file_extension": ".py",
   "mimetype": "text/x-python",
   "name": "python",
   "nbconvert_exporter": "python",
   "pygments_lexer": "ipython3",
   "version": "3.10.12"
  }
 },
 "nbformat": 4,
 "nbformat_minor": 2
}
